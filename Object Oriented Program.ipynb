{
 "cells": [
  {
   "cell_type": "code",
   "execution_count": 7,
   "id": "71ae9d07",
   "metadata": {},
   "outputs": [
    {
     "name": "stdout",
     "output_type": "stream",
     "text": [
      "Nama   : Tri Vely Destiana Futri\n",
      "NIM    : 24/545145/PA/23158\n",
      "Prodi  : Geofisika\n"
     ]
    }
   ],
   "source": [
    "# Tugas OOP 1: Membuat kelas dengan atribut instance\n",
    "class Mahasiswa:\n",
    "    def __init__(self, nama, nim, prodi):\n",
    "        self.nama = nama\n",
    "        self.nim = nim\n",
    "        self.prodi = prodi\n",
    "\n",
    "# Membuat objek dari kelas Mahasiswa\n",
    "mhs1 = Mahasiswa(\"Tri Vely Destiana Futri\", \"24/545145/PA/23158\", \"Geofisika\")\n",
    "print(f\"Nama   : {mhs1.nama}\")\n",
    "print(f\"NIM    : {mhs1.nim}\")\n",
    "print(f\"Prodi  : {mhs1.prodi}\")\n"
   ]
  },
  {
   "cell_type": "code",
   "execution_count": null,
   "id": "63b72734",
   "metadata": {},
   "outputs": [
    {
     "name": "stdout",
     "output_type": "stream",
     "text": [
      "Espresso termasuk Coffee, disajikan Panas, dengan tingkat kemanisan 1/10\n",
      "Iced Latte termasuk Coffee, disajikan Dingin, dengan tingkat kemanisan 7/10\n"
     ]
    }
   ],
   "source": [
    "# Tugas OOP 2: Parent and Child\n",
    "class Minuman:\n",
    "    def __init__(self, kategori, suhu):\n",
    "        self.kategori = kategori\n",
    "        self.suhu = suhu   # contoh variabel yang diwariskan\n",
    "\n",
    "# Child Class\n",
    "class Coffee(Minuman):\n",
    "    def __init__(self, nama, tingkat_kemanisan, suhu):\n",
    "        super().__init__(\"Coffee\", suhu)   # variabel kategori & suhu diwariskan dari Parent\n",
    "        self.nama = nama\n",
    "        self.tingkat_kemanisan = tingkat_kemanisan\n",
    "\n",
    "    def deskripsi(self):\n",
    "        return (f\"{self.nama} termasuk {self.kategori}, \"\n",
    "                f\"disajikan {self.suhu}, dengan tingkat kemanisan {self.tingkat_kemanisan}/10\")\n",
    "\n",
    "# Membuat objek dari Child Class\n",
    "coffee1 = Coffee(\"Espresso\", 1, \"Panas\")\n",
    "coffee2 = Coffee(\"Iced Latte\", 7, \"Dingin\")\n",
    "\n",
    "print(coffee1.deskripsi())\n",
    "print(coffee2.deskripsi())\n"
   ]
  },
  {
   "cell_type": "code",
   "execution_count": 3,
   "id": "8321f32a",
   "metadata": {},
   "outputs": [
    {
     "name": "stdout",
     "output_type": "stream",
     "text": [
      "The seating capacity of a Bus is 50 passengers\n"
     ]
    }
   ],
   "source": [
    "# Tugas OOP 3: Class Inheritance\n",
    "class Vehicle:\n",
    "    def __init__(self, name, max_speed, mileage):\n",
    "        self.name = name\n",
    "        self.max_speed = max_speed\n",
    "        self.mileage = mileage\n",
    "\n",
    "    def seating_capacity(self, capacity):\n",
    "        return f\"The seating capacity of a {self.name} is {capacity} passengers\"\n",
    "\n",
    "# Membuat class Bus yang mewarisi dari Vehicle\n",
    "class Bus(Vehicle):\n",
    "    def seating_capacity(self, capacity=50):  # default value = 50\n",
    "        return super().seating_capacity(capacity)\n",
    "\n",
    "# Membuat objek dari class Bus\n",
    "bus_sekolah = Bus(\"Bus\", 120, 12)\n",
    "print(bus_sekolah.seating_capacity())\n"
   ]
  }
 ],
 "metadata": {
  "kernelspec": {
   "display_name": "base",
   "language": "python",
   "name": "python3"
  },
  "language_info": {
   "codemirror_mode": {
    "name": "ipython",
    "version": 3
   },
   "file_extension": ".py",
   "mimetype": "text/x-python",
   "name": "python",
   "nbconvert_exporter": "python",
   "pygments_lexer": "ipython3",
   "version": "3.13.5"
  }
 },
 "nbformat": 4,
 "nbformat_minor": 5
}
